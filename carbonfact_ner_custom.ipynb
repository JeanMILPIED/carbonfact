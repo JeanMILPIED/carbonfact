{
 "cells": [
  {
   "cell_type": "markdown",
   "id": "b1bcaeef-5e2e-4417-b53f-4ab6f36e8a10",
   "metadata": {},
   "source": [
    "### Train a custom NER"
   ]
  },
  {
   "cell_type": "markdown",
   "id": "bce7be78-aeeb-4efc-b831-8229c39fa8fc",
   "metadata": {},
   "source": [
    "#### 0.imports"
   ]
  },
  {
   "cell_type": "code",
   "execution_count": 45,
   "id": "d70d12e5-3a6c-4900-9b8d-3d23784bf45f",
   "metadata": {},
   "outputs": [],
   "source": [
    "import pandas as pd\n",
    "import numpy as np\n",
    "import spacy\n",
    "from spacy import displacy\n",
    "from spacy.tokens import DocBin\n",
    "import json\n",
    "from tqdm import tqdm\n",
    "import random"
   ]
  },
  {
   "cell_type": "code",
   "execution_count": 2,
   "id": "3a620188-e78f-4a58-ba35-1aaca6cceaf5",
   "metadata": {},
   "outputs": [],
   "source": [
    "nlp = spacy.load(\"en_core_web_sm\")"
   ]
  },
  {
   "cell_type": "markdown",
   "id": "8fd8443e-d140-4102-b1e2-ec411a0dc47c",
   "metadata": {},
   "source": [
    "#### 1. load data"
   ]
  },
  {
   "cell_type": "code",
   "execution_count": 5,
   "id": "447398fc-528d-40c4-b15d-fd41b1261a89",
   "metadata": {},
   "outputs": [],
   "source": [
    "df_cf=pd.read_csv('care_labels_parsed.csv', sep=';', index_col=0)"
   ]
  },
  {
   "cell_type": "code",
   "execution_count": 7,
   "id": "9cb7634f-a38b-40ef-aafb-6bde25a11221",
   "metadata": {},
   "outputs": [
    {
     "data": {
      "text/html": [
       "<div>\n",
       "<style scoped>\n",
       "    .dataframe tbody tr th:only-of-type {\n",
       "        vertical-align: middle;\n",
       "    }\n",
       "\n",
       "    .dataframe tbody tr th {\n",
       "        vertical-align: top;\n",
       "    }\n",
       "\n",
       "    .dataframe thead th {\n",
       "        text-align: right;\n",
       "    }\n",
       "</style>\n",
       "<table border=\"1\" class=\"dataframe\">\n",
       "  <thead>\n",
       "    <tr style=\"text-align: right;\">\n",
       "      <th></th>\n",
       "      <th>product_id</th>\n",
       "      <th>product_category</th>\n",
       "      <th>care_label</th>\n",
       "      <th>main_prod_cat</th>\n",
       "      <th>log_parse_cat</th>\n",
       "      <th>raw_data</th>\n",
       "      <th>parsed</th>\n",
       "      <th>clean_data</th>\n",
       "      <th>len_raw_clean_text</th>\n",
       "      <th>test_length</th>\n",
       "      <th>rebuild_text</th>\n",
       "      <th>len_rebuild</th>\n",
       "      <th>test_test_pc</th>\n",
       "      <th>test_missing_weight</th>\n",
       "    </tr>\n",
       "  </thead>\n",
       "  <tbody>\n",
       "    <tr>\n",
       "      <th>0</th>\n",
       "      <td>#113</td>\n",
       "      <td>PANTS</td>\n",
       "      <td>Main: 40% Cotton, 60% Polyester, 290 g/m².\\nCo...</td>\n",
       "      <td>PANTS</td>\n",
       "      <td>True</td>\n",
       "      <td>Main: 40% Cotton, 60% Polyester, 290 g/m².\\nCo...</td>\n",
       "      <td>{'default': {'Main_0': {'Materials': [{'materi...</td>\n",
       "      <td>main 40% cotton, 60% polyester, 290 g/m2.contr...</td>\n",
       "      <td>137</td>\n",
       "      <td>True</td>\n",
       "      <td>main_0 40% cotton, 60% polyester, 290 g/m2. co...</td>\n",
       "      <td>141</td>\n",
       "      <td>0</td>\n",
       "      <td>0</td>\n",
       "    </tr>\n",
       "    <tr>\n",
       "      <th>1</th>\n",
       "      <td>#212</td>\n",
       "      <td>PANTS</td>\n",
       "      <td>Main: DuraTwill, 52% Cotton 48% Polyamide, 240...</td>\n",
       "      <td>PANTS</td>\n",
       "      <td>True</td>\n",
       "      <td>Main: DuraTwill, 52% Cotton 48% Polyamide, 240...</td>\n",
       "      <td>{'default': {'Main_0': {'Materials': [{'materi...</td>\n",
       "      <td>main duratwill, 52% cotton 48% polyamide, 240 ...</td>\n",
       "      <td>88</td>\n",
       "      <td>True</td>\n",
       "      <td>main_0 52% cotton, 48% polyamide, 240 g/m2. re...</td>\n",
       "      <td>83</td>\n",
       "      <td>0</td>\n",
       "      <td>1</td>\n",
       "    </tr>\n",
       "  </tbody>\n",
       "</table>\n",
       "</div>"
      ],
      "text/plain": [
       "  product_id product_category  \\\n",
       "0       #113            PANTS   \n",
       "1       #212            PANTS   \n",
       "\n",
       "                                          care_label main_prod_cat  \\\n",
       "0  Main: 40% Cotton, 60% Polyester, 290 g/m².\\nCo...         PANTS   \n",
       "1  Main: DuraTwill, 52% Cotton 48% Polyamide, 240...         PANTS   \n",
       "\n",
       "   log_parse_cat                                           raw_data  \\\n",
       "0           True  Main: 40% Cotton, 60% Polyester, 290 g/m².\\nCo...   \n",
       "1           True  Main: DuraTwill, 52% Cotton 48% Polyamide, 240...   \n",
       "\n",
       "                                              parsed  \\\n",
       "0  {'default': {'Main_0': {'Materials': [{'materi...   \n",
       "1  {'default': {'Main_0': {'Materials': [{'materi...   \n",
       "\n",
       "                                          clean_data  len_raw_clean_text  \\\n",
       "0  main 40% cotton, 60% polyester, 290 g/m2.contr...                 137   \n",
       "1  main duratwill, 52% cotton 48% polyamide, 240 ...                  88   \n",
       "\n",
       "   test_length                                       rebuild_text  \\\n",
       "0         True  main_0 40% cotton, 60% polyester, 290 g/m2. co...   \n",
       "1         True  main_0 52% cotton, 48% polyamide, 240 g/m2. re...   \n",
       "\n",
       "   len_rebuild  test_test_pc  test_missing_weight  \n",
       "0          141             0                    0  \n",
       "1           83             0                    1  "
      ]
     },
     "execution_count": 7,
     "metadata": {},
     "output_type": "execute_result"
    }
   ],
   "source": [
    "df_cf.head(2)"
   ]
  },
  {
   "cell_type": "markdown",
   "id": "c6f1d084-c65d-47f9-a210-22715fd3f71c",
   "metadata": {},
   "source": [
    "#### 2. try generic model  \n",
    "works ok for % and density"
   ]
  },
  {
   "cell_type": "code",
   "execution_count": 11,
   "id": "f34f79a1-c00f-4698-b223-442898dd0e7e",
   "metadata": {},
   "outputs": [
    {
     "data": {
      "text/html": [
       "<span class=\"tex2jax_ignore\"><div class=\"entities\" style=\"line-height: 2.5; direction: ltr\">\n",
       "<mark class=\"entity\" style=\"background: #e4e7d2; padding: 0.45em 0.6em; margin: 0 0.25em; line-height: 1; border-radius: 0.35em;\">\n",
       "    100%\n",
       "    <span style=\"font-size: 0.8em; font-weight: bold; line-height: 1; border-radius: 0.35em; vertical-align: middle; margin-left: 0.5rem\">PERCENT</span>\n",
       "</mark>\n",
       " cotton, \n",
       "<mark class=\"entity\" style=\"background: #e4e7d2; padding: 0.45em 0.6em; margin: 0 0.25em; line-height: 1; border-radius: 0.35em;\">\n",
       "    160\n",
       "    <span style=\"font-size: 0.8em; font-weight: bold; line-height: 1; border-radius: 0.35em; vertical-align: middle; margin-left: 0.5rem\">CARDINAL</span>\n",
       "</mark>\n",
       " g/m2. </div></span>"
      ],
      "text/plain": [
       "<IPython.core.display.HTML object>"
      ]
     },
     "metadata": {},
     "output_type": "display_data"
    }
   ],
   "source": [
    "text=df_cf.care_label.iloc[100]\n",
    "doc = nlp(text)\n",
    "displacy.render(doc, style=\"ent\", jupyter=True)"
   ]
  },
  {
   "cell_type": "markdown",
   "id": "0bfd6ea0-188b-443d-8fde-3984aca48e79",
   "metadata": {},
   "source": [
    "#### 3. train custom model"
   ]
  },
  {
   "cell_type": "code",
   "execution_count": 13,
   "id": "97ccf994-9d70-4053-937b-c22d1c2588cf",
   "metadata": {},
   "outputs": [],
   "source": [
    "with open('annotations.json', 'r') as f:\n",
    "    data = json.load(f)\n"
   ]
  },
  {
   "cell_type": "code",
   "execution_count": 20,
   "id": "d0a3e623-099f-41f4-b29c-d67045fb145c",
   "metadata": {},
   "outputs": [
    {
     "data": {
      "text/plain": [
       "['62% Polyamide, 16% Polyester, 14% Polyurethane, 8% Rubber.\\r',\n",
       " {'entities': [[0, 3, 'PERCENT'],\n",
       "   [4, 13, 'MATERIAL'],\n",
       "   [15, 18, 'PERCENT'],\n",
       "   [19, 28, 'MATERIAL'],\n",
       "   [30, 33, 'PERCENT'],\n",
       "   [34, 46, 'MATERIAL'],\n",
       "   [48, 50, 'PERCENT'],\n",
       "   [51, 57, 'MATERIAL']]}]"
      ]
     },
     "execution_count": 20,
     "metadata": {},
     "output_type": "execute_result"
    }
   ],
   "source": [
    "data['annotations'][1]"
   ]
  },
  {
   "cell_type": "code",
   "execution_count": 29,
   "id": "69751852-2fe0-4d6e-8cfe-0b708adabb82",
   "metadata": {},
   "outputs": [
    {
     "name": "stderr",
     "output_type": "stream",
     "text": [
      "100%|████████████████████████████████████████████████████████████████████████████████| 31/31 [00:00<00:00, 3056.21it/s]"
     ]
    },
    {
     "name": "stdout",
     "output_type": "stream",
     "text": [
      "[[0, 4, 'GARMENTPART'], [6, 9, 'PERCENT'], [10, 16, 'MATERIAL'], [18, 21, 'PERCENT'], [22, 28, 'MATERIAL'], [30, 32, 'PERCENT'], [33, 43, 'MATERIAL'], [45, 54, 'DENSITY'], [55, 68, 'GARMENTPART'], [70, 73, 'PERCENT'], [74, 84, 'MATERIAL'], [86, 89, 'PERCENT'], [90, 98, 'MATERIAL'], [100, 103, 'PERCENT'], [104, 110, 'MATERIAL'], [112, 115, 'PERCENT'], [116, 122, 'MATERIAL'], [124, 126, 'PERCENT'], [127, 137, 'MATERIAL'], [139, 147, 'DENSITY']]\n",
      "[[0, 3, 'PERCENT'], [4, 13, 'MATERIAL'], [15, 18, 'PERCENT'], [19, 28, 'MATERIAL'], [30, 33, 'PERCENT'], [34, 46, 'MATERIAL'], [48, 50, 'PERCENT'], [51, 57, 'MATERIAL']]\n",
      "[[0, 4, 'GARMENTPART'], [6, 10, 'PERCENT'], [11, 20, 'MATERIAL'], [22, 30, 'DENSITY'], [31, 39, 'GARMENTPART'], [41, 44, 'PERCENT'], [59, 68, 'MATERIAL'], [70, 73, 'PERCENT'], [74, 81, 'MATERIAL'], [83, 85, 'PERCENT'], [86, 94, 'MATERIAL'], [96, 105, 'DENSITY'], [106, 116, 'GARMENTPART'], [118, 121, 'PERCENT'], [122, 149, 'MATERIAL'], [151, 155, 'PERCENT'], [156, 165, 'MATERIAL'], [167, 176, 'DENSITY'], [177, 189, 'GARMENTPART'], [191, 194, 'PERCENT'], [195, 204, 'MATERIAL'], [205, 208, 'PERCENT'], [209, 217, 'MATERIAL'], [219, 228, 'DENSITY'], [230, 243, 'GARMENTPART'], [245, 249, 'PERCENT'], [250, 259, 'MATERIAL'], [261, 268, 'DENSITY']]\n",
      "[[0, 4, 'PERCENT'], [5, 23, 'MATERIAL']]\n",
      "[[0, 4, 'GARMENTPART'], [6, 9, 'PERCENT'], [10, 19, 'MATERIAL'], [21, 24, 'PERCENT'], [25, 31, 'MATERIAL'], [33, 42, 'DENSITY'], [43, 56, 'GARMENTPART'], [58, 62, 'PERCENT'], [63, 81, 'MATERIAL']]\n",
      "[[11, 14, 'PERCENT'], [15, 24, 'MATERIAL'], [26, 29, 'PERCENT'], [30, 36, 'MATERIAL'], [38, 46, 'DENSITY']]\n",
      "[[0, 5, 'GARMENTPART'], [6, 10, 'PERCENT'], [11, 20, 'MATERIAL']]\n",
      "[[0, 6, 'GARMENTPART'], [8, 12, 'PERCENT'], [13, 22, 'MATERIAL']]\n",
      "[[0, 4, 'PERCENT'], [5, 16, 'MATERIAL'], [18, 26, 'DENSITY']]\n",
      "[[0, 4, 'GARMENTPART'], [6, 9, 'PERCENT'], [10, 19, 'MATERIAL'], [21, 24, 'PERCENT'], [25, 35, 'MATERIAL'], [37, 40, 'PERCENT'], [41, 55, 'MATERIAL'], [57, 60, 'PERCENT'], [61, 66, 'MATERIAL'], [68, 70, 'PERCENT'], [71, 81, 'MATERIAL'], [83, 92, 'DENSITY'], [93, 106, 'GARMENTPART'], [108, 111, 'PERCENT'], [112, 122, 'MATERIAL'], [124, 127, 'PERCENT'], [128, 136, 'MATERIAL'], [138, 141, 'PERCENT'], [142, 148, 'MATERIAL'], [150, 153, 'PERCENT'], [154, 160, 'MATERIAL'], [162, 164, 'PERCENT'], [165, 175, 'MATERIAL'], [177, 185, 'DENSITY']]\n",
      "[[0, 4, 'PERCENT'], [5, 14, 'MATERIAL'], [16, 24, 'DENSITY']]\n",
      "[[0, 3, 'PERCENT'], [4, 14, 'MATERIAL'], [16, 19, 'PERCENT'], [20, 26, 'MATERIAL'], [28, 30, 'PERCENT'], [31, 40, 'MATERIAL'], [42, 50, 'DENSITY']]\n",
      "[[0, 3, 'PERCENT'], [4, 13, 'MATERIAL'], [15, 18, 'PERCENT'], [19, 25, 'MATERIAL'], [27, 35, 'DENSITY']]\n",
      "[]\n",
      "[]\n",
      "[[0, 4, 'GARMENTPART'], [6, 9, 'PERCENT'], [10, 19, 'MATERIAL'], [21, 24, 'PERCENT'], [25, 31, 'MATERIAL'], [33, 42, 'DENSITY'], [44, 57, 'GARMENTPART'], [59, 63, 'PERCENT'], [64, 73, 'MATERIAL'], [84, 92, 'DENSITY']]\n",
      "[[1, 4, 'PERCENT'], [5, 14, 'MATERIAL'], [15, 17, 'PERCENT'], [18, 27, 'MATERIAL'], [28, 36, 'DENSITY']]\n",
      "[[0, 3, 'PERCENT'], [4, 13, 'MATERIAL'], [15, 17, 'PERCENT'], [18, 26, 'MATERIAL'], [27, 35, 'DENSITY']]\n",
      "[[0, 17, 'COLOR'], [19, 22, 'PERCENT'], [23, 29, 'MATERIAL'], [31, 34, 'PERCENT'], [35, 44, 'MATERIAL']]\n",
      "[[0, 8, 'COLOR'], [10, 13, 'PERCENT'], [14, 20, 'MATERIAL'], [22, 25, 'PERCENT'], [26, 35, 'MATERIAL'], [37, 45, 'DENSITY']]\n",
      "[[0, 7, 'GARMENTPART'], [9, 12, 'PERCENT'], [13, 19, 'MATERIAL'], [21, 23, 'PERCENT'], [24, 32, 'MATERIAL'], [34, 42, 'DENSITY']]\n",
      "[]\n",
      "[[0, 4, 'PERCENT'], [5, 12, 'MATERIAL']]\n",
      "[[0, 3, 'PERCENT'], [4, 10, 'MATERIAL'], [12, 15, 'PERCENT'], [16, 25, 'MATERIAL'], [27, 29, 'PERCENT'], [30, 38, 'MATERIAL']]\n",
      "[[0, 2, 'PERCENT'], [3, 12, 'MATERIAL'], [14, 16, 'PERCENT'], [17, 21, 'MATERIAL'], [24, 26, 'PERCENT'], [27, 35, 'MATERIAL'], [36, 41, 'DENSITY']]\n",
      "[[0, 3, 'PERCENT'], [4, 22, 'MATERIAL'], [24, 27, 'PERCENT'], [28, 34, 'MATERIAL'], [43, 51, 'DENSITY']]\n",
      "[[0, 4, 'GARMENTPART'], [6, 10, 'PERCENT'], [11, 20, 'MATERIAL'], [22, 31, 'DENSITY'], [32, 46, 'GARMENTPART'], [48, 52, 'PERCENT'], [53, 62, 'MATERIAL'], [73, 81, 'DENSITY']]\n",
      "[[0, 4, 'PERCENT'], [13, 22, 'MATERIAL']]\n",
      "[[0, 18, 'COLOR'], [20, 23, 'PERCENT'], [24, 30, 'MATERIAL'], [32, 35, 'PERCENT'], [36, 45, 'MATERIAL'], [47, 55, 'DENSITY']]\n",
      "[[0, 11, 'COLOR'], [13, 17, 'GARMENTPART'], [19, 22, 'PERCENT'], [23, 29, 'MATERIAL'], [31, 34, 'PERCENT'], [35, 44, 'MATERIAL'], [46, 54, 'DENSITY']]\n",
      "[]\n",
      "DocBin file created and saved as 'train_data.spacy'.\n"
     ]
    },
    {
     "name": "stderr",
     "output_type": "stream",
     "text": [
      "\n"
     ]
    }
   ],
   "source": [
    "# Step 2: Load spaCy Model (can be a blank model or a pre-trained one)\n",
    "nlp = spacy.blank(\"en\")  # Load a blank English model\n",
    "\n",
    "# Step 3: Create a DocBin to store Doc objects\n",
    "doc_bin = DocBin()\n",
    "\n",
    "# Step 4: Process Training Data\n",
    "for text, annotations in tqdm(data['annotations']):\n",
    "    doc = nlp.make_doc(text)  # Create a spaCy Doc object from the raw text\n",
    "    entities = annotations.get(\"entities\")  # Extract entities from annotations\n",
    "    print(entities)\n",
    "    ents = []\n",
    "    if entities==[]:\n",
    "        pass\n",
    "    else:\n",
    "        # Create entity spans (start_char, end_char, label)\n",
    "        for start, end, label in entities:\n",
    "            span = doc.char_span(start, end, label=label)\n",
    "            if span:\n",
    "                ents.append(span)\n",
    "        \n",
    "        # Set entities on the Doc object\n",
    "        doc.ents = ents\n",
    "        \n",
    "        # Add the processed doc to the DocBin\n",
    "        doc_bin.add(doc)\n",
    "\n",
    "# Step 5: Serialize and Save the DocBin to disk\n",
    "with open(\"train_data.spacy\", \"wb\") as f:\n",
    "    f.write(doc_bin.to_bytes())\n",
    "\n",
    "print(\"DocBin file created and saved as 'train_data.spacy'.\")"
   ]
  },
  {
   "cell_type": "code",
   "execution_count": 36,
   "id": "a9f80809-464f-4b1f-9538-e86c86ba666a",
   "metadata": {},
   "outputs": [
    {
     "name": "stdout",
     "output_type": "stream",
     "text": [
      "\u001b[38;5;3m[!] To generate a more effective transformer-based config (GPU-only),\n",
      "install the spacy-transformers package and re-run this command. The config\n",
      "generated now does not use transformers.\u001b[0m\n",
      "\u001b[38;5;4m[i] Generated config template specific for your use case\u001b[0m\n",
      "- Language: en\n",
      "- Pipeline: ner\n",
      "- Optimize for: efficiency\n",
      "- Hardware: CPU\n",
      "- Transformer: None\n",
      "\u001b[38;5;2m[+] Auto-filled config with all values\u001b[0m\n",
      "\u001b[38;5;2m[+] Saved config\u001b[0m\n",
      "config.cfg\n",
      "You can now add your data and train your pipeline:\n",
      "python -m spacy train config.cfg --paths.train ./train.spacy --paths.dev ./dev.spacy\n"
     ]
    }
   ],
   "source": [
    "!python -m spacy init config config.cfg --lang en --pipeline ner --optimize efficiency --force"
   ]
  },
  {
   "cell_type": "code",
   "execution_count": 38,
   "id": "f7c6372a-8b48-477d-a7fd-5822dc65dd6e",
   "metadata": {},
   "outputs": [
    {
     "name": "stdout",
     "output_type": "stream",
     "text": [
      "\u001b[38;5;4m[i] Saving to output directory: output\u001b[0m\n",
      "\u001b[38;5;4m[i] Using CPU\u001b[0m\n",
      "\u001b[1m\n",
      "=========================== Initializing pipeline ===========================\u001b[0m\n",
      "\u001b[38;5;2m[+] Initialized pipeline\u001b[0m\n",
      "\u001b[1m\n",
      "============================= Training pipeline =============================\u001b[0m\n",
      "\u001b[38;5;4m[i] Pipeline: ['tok2vec', 'ner']\u001b[0m\n",
      "\u001b[38;5;4m[i] Initial learn rate: 0.001\u001b[0m\n",
      "E    #       LOSS TOK2VEC  LOSS NER  ENTS_F  ENTS_P  ENTS_R  SCORE \n",
      "---  ------  ------------  --------  ------  ------  ------  ------\n",
      "  0       0          0.00     42.77   23.56   19.40   30.00    0.24\n",
      " 37     200        345.88   2404.07   98.85   98.47   99.23    0.99\n",
      " 82     400         49.78    127.27   99.23   99.23   99.23    0.99\n",
      "137     600         48.20    113.08   99.23   99.23   99.23    0.99\n",
      "204     800         77.89     57.05  100.00  100.00  100.00    1.00\n",
      "292    1000         37.81     11.17  100.00  100.00  100.00    1.00\n",
      "392    1200        124.76     27.86  100.00  100.00  100.00    1.00\n",
      "492    1400        122.59     21.70  100.00  100.00  100.00    1.00\n",
      "668    1600         11.47      2.34  100.00  100.00  100.00    1.00\n",
      "868    1800         39.55      5.03  100.00  100.00  100.00    1.00\n",
      "1068    2000        136.55     21.27  100.00  100.00  100.00    1.00\n",
      "1268    2200         30.84      4.45  100.00  100.00  100.00    1.00\n",
      "1468    2400         49.23      8.16  100.00  100.00  100.00    1.00\n",
      "\u001b[38;5;2m[+] Saved pipeline to output directory\u001b[0m\n",
      "output\\model-last\n"
     ]
    }
   ],
   "source": [
    "!python -m spacy train config.cfg --output ./output --paths.train ./train_data.spacy --paths.dev ./train_data.spacy"
   ]
  },
  {
   "cell_type": "code",
   "execution_count": 48,
   "id": "5030a36e-1b09-4548-a2cb-ac191e434caf",
   "metadata": {},
   "outputs": [],
   "source": [
    "nlp_ner_custom=spacy.load('./output/model-last')"
   ]
  },
  {
   "cell_type": "markdown",
   "id": "b0fcd01a-23f7-4a87-bb79-5bbc33c07f0c",
   "metadata": {},
   "source": [
    "#### 4.test custom model"
   ]
  },
  {
   "cell_type": "code",
   "execution_count": 49,
   "id": "57f7c4b5-7af6-4f2f-8505-9ec70633912c",
   "metadata": {},
   "outputs": [
    {
     "data": {
      "text/html": [
       "<span class=\"tex2jax_ignore\"><div class=\"entities\" style=\"line-height: 2.5; direction: ltr\">\n",
       "<mark class=\"entity\" style=\"background: #e4e7d2; padding: 0.45em 0.6em; margin: 0 0.25em; line-height: 1; border-radius: 0.35em;\">\n",
       "    100%\n",
       "    <span style=\"font-size: 0.8em; font-weight: bold; line-height: 1; border-radius: 0.35em; vertical-align: middle; margin-left: 0.5rem\">PERCENT</span>\n",
       "</mark>\n",
       " \n",
       "<mark class=\"entity\" style=\"background: #ddd; padding: 0.45em 0.6em; margin: 0 0.25em; line-height: 1; border-radius: 0.35em;\">\n",
       "    merino wool\n",
       "    <span style=\"font-size: 0.8em; font-weight: bold; line-height: 1; border-radius: 0.35em; vertical-align: middle; margin-left: 0.5rem\">MATERIAL</span>\n",
       "</mark>\n",
       ", \n",
       "<mark class=\"entity\" style=\"background: #ddd; padding: 0.45em 0.6em; margin: 0 0.25em; line-height: 1; border-radius: 0.35em;\">\n",
       "    160 g/m2\n",
       "    <span style=\"font-size: 0.8em; font-weight: bold; line-height: 1; border-radius: 0.35em; vertical-align: middle; margin-left: 0.5rem\">DENSITY</span>\n",
       "</mark>\n",
       ".</div></span>"
      ],
      "text/plain": [
       "<IPython.core.display.HTML object>"
      ]
     },
     "metadata": {},
     "output_type": "display_data"
    },
    {
     "name": "stdout",
     "output_type": "stream",
     "text": [
      "\n",
      "\n"
     ]
    },
    {
     "data": {
      "text/html": [
       "<span class=\"tex2jax_ignore\"><div class=\"entities\" style=\"line-height: 2.5; direction: ltr\">\n",
       "<mark class=\"entity\" style=\"background: #ddd; padding: 0.45em 0.6em; margin: 0 0.25em; line-height: 1; border-radius: 0.35em;\">\n",
       "    Main\n",
       "    <span style=\"font-size: 0.8em; font-weight: bold; line-height: 1; border-radius: 0.35em; vertical-align: middle; margin-left: 0.5rem\">GARMENTPART</span>\n",
       "</mark>\n",
       ": \n",
       "<mark class=\"entity\" style=\"background: #e4e7d2; padding: 0.45em 0.6em; margin: 0 0.25em; line-height: 1; border-radius: 0.35em;\">\n",
       "    49%\n",
       "    <span style=\"font-size: 0.8em; font-weight: bold; line-height: 1; border-radius: 0.35em; vertical-align: middle; margin-left: 0.5rem\">PERCENT</span>\n",
       "</mark>\n",
       " \n",
       "<mark class=\"entity\" style=\"background: #ddd; padding: 0.45em 0.6em; margin: 0 0.25em; line-height: 1; border-radius: 0.35em;\">\n",
       "    cotton\n",
       "    <span style=\"font-size: 0.8em; font-weight: bold; line-height: 1; border-radius: 0.35em; vertical-align: middle; margin-left: 0.5rem\">MATERIAL</span>\n",
       "</mark>\n",
       ", \n",
       "<mark class=\"entity\" style=\"background: #e4e7d2; padding: 0.45em 0.6em; margin: 0 0.25em; line-height: 1; border-radius: 0.35em;\">\n",
       "    51%\n",
       "    <span style=\"font-size: 0.8em; font-weight: bold; line-height: 1; border-radius: 0.35em; vertical-align: middle; margin-left: 0.5rem\">PERCENT</span>\n",
       "</mark>\n",
       " \n",
       "<mark class=\"entity\" style=\"background: #ddd; padding: 0.45em 0.6em; margin: 0 0.25em; line-height: 1; border-radius: 0.35em;\">\n",
       "    polyester\n",
       "    <span style=\"font-size: 0.8em; font-weight: bold; line-height: 1; border-radius: 0.35em; vertical-align: middle; margin-left: 0.5rem\">MATERIAL</span>\n",
       "</mark>\n",
       ", \n",
       "<mark class=\"entity\" style=\"background: #ddd; padding: 0.45em 0.6em; margin: 0 0.25em; line-height: 1; border-radius: 0.35em;\">\n",
       "    360 g/m2\n",
       "    <span style=\"font-size: 0.8em; font-weight: bold; line-height: 1; border-radius: 0.35em; vertical-align: middle; margin-left: 0.5rem\">DENSITY</span>\n",
       "</mark>\n",
       ". Reinforcement: 100% \n",
       "<mark class=\"entity\" style=\"background: #ddd; padding: 0.45em 0.6em; margin: 0 0.25em; line-height: 1; border-radius: 0.35em;\">\n",
       "    polyester\n",
       "    <span style=\"font-size: 0.8em; font-weight: bold; line-height: 1; border-radius: 0.35em; vertical-align: middle; margin-left: 0.5rem\">MATERIAL</span>\n",
       "</mark>\n",
       " CORDURA®, 320 g/m².</div></span>"
      ],
      "text/plain": [
       "<IPython.core.display.HTML object>"
      ]
     },
     "metadata": {},
     "output_type": "display_data"
    },
    {
     "name": "stdout",
     "output_type": "stream",
     "text": [
      "\n",
      "\n"
     ]
    },
    {
     "data": {
      "text/html": [
       "<span class=\"tex2jax_ignore\"><div class=\"entities\" style=\"line-height: 2.5; direction: ltr\">\n",
       "<mark class=\"entity\" style=\"background: #e4e7d2; padding: 0.45em 0.6em; margin: 0 0.25em; line-height: 1; border-radius: 0.35em;\">\n",
       "    100%\n",
       "    <span style=\"font-size: 0.8em; font-weight: bold; line-height: 1; border-radius: 0.35em; vertical-align: middle; margin-left: 0.5rem\">PERCENT</span>\n",
       "</mark>\n",
       " \n",
       "<mark class=\"entity\" style=\"background: #ddd; padding: 0.45em 0.6em; margin: 0 0.25em; line-height: 1; border-radius: 0.35em;\">\n",
       "    Cotton\n",
       "    <span style=\"font-size: 0.8em; font-weight: bold; line-height: 1; border-radius: 0.35em; vertical-align: middle; margin-left: 0.5rem\">MATERIAL</span>\n",
       "</mark>\n",
       ", \n",
       "<mark class=\"entity\" style=\"background: #ddd; padding: 0.45em 0.6em; margin: 0 0.25em; line-height: 1; border-radius: 0.35em;\">\n",
       "    Col.\n",
       "    <span style=\"font-size: 0.8em; font-weight: bold; line-height: 1; border-radius: 0.35em; vertical-align: middle; margin-left: 0.5rem\">COLOR</span>\n",
       "</mark>\n",
       " 2800: \n",
       "<mark class=\"entity\" style=\"background: #e4e7d2; padding: 0.45em 0.6em; margin: 0 0.25em; line-height: 1; border-radius: 0.35em;\">\n",
       "    95%\n",
       "    <span style=\"font-size: 0.8em; font-weight: bold; line-height: 1; border-radius: 0.35em; vertical-align: middle; margin-left: 0.5rem\">PERCENT</span>\n",
       "</mark>\n",
       " \n",
       "<mark class=\"entity\" style=\"background: #ddd; padding: 0.45em 0.6em; margin: 0 0.25em; line-height: 1; border-radius: 0.35em;\">\n",
       "    Cotton\n",
       "    <span style=\"font-size: 0.8em; font-weight: bold; line-height: 1; border-radius: 0.35em; vertical-align: middle; margin-left: 0.5rem\">MATERIAL</span>\n",
       "</mark>\n",
       ", \n",
       "<mark class=\"entity\" style=\"background: #e4e7d2; padding: 0.45em 0.6em; margin: 0 0.25em; line-height: 1; border-radius: 0.35em;\">\n",
       "    5%\n",
       "    <span style=\"font-size: 0.8em; font-weight: bold; line-height: 1; border-radius: 0.35em; vertical-align: middle; margin-left: 0.5rem\">PERCENT</span>\n",
       "</mark>\n",
       " Viscose \n",
       "<mark class=\"entity\" style=\"background: #ddd; padding: 0.45em 0.6em; margin: 0 0.25em; line-height: 1; border-radius: 0.35em;\">\n",
       "    160 g/m²\n",
       "    <span style=\"font-size: 0.8em; font-weight: bold; line-height: 1; border-radius: 0.35em; vertical-align: middle; margin-left: 0.5rem\">DENSITY</span>\n",
       "</mark>\n",
       ".</div></span>"
      ],
      "text/plain": [
       "<IPython.core.display.HTML object>"
      ]
     },
     "metadata": {},
     "output_type": "display_data"
    },
    {
     "name": "stdout",
     "output_type": "stream",
     "text": [
      "\n",
      "\n"
     ]
    },
    {
     "data": {
      "text/html": [
       "<span class=\"tex2jax_ignore\"><div class=\"entities\" style=\"line-height: 2.5; direction: ltr\">\n",
       "<mark class=\"entity\" style=\"background: #e4e7d2; padding: 0.45em 0.6em; margin: 0 0.25em; line-height: 1; border-radius: 0.35em;\">\n",
       "    100%\n",
       "    <span style=\"font-size: 0.8em; font-weight: bold; line-height: 1; border-radius: 0.35em; vertical-align: middle; margin-left: 0.5rem\">PERCENT</span>\n",
       "</mark>\n",
       " ripstop \n",
       "<mark class=\"entity\" style=\"background: #ddd; padding: 0.45em 0.6em; margin: 0 0.25em; line-height: 1; border-radius: 0.35em;\">\n",
       "    polyamide\n",
       "    <span style=\"font-size: 0.8em; font-weight: bold; line-height: 1; border-radius: 0.35em; vertical-align: middle; margin-left: 0.5rem\">MATERIAL</span>\n",
       "</mark>\n",
       "</div></span>"
      ],
      "text/plain": [
       "<IPython.core.display.HTML object>"
      ]
     },
     "metadata": {},
     "output_type": "display_data"
    },
    {
     "name": "stdout",
     "output_type": "stream",
     "text": [
      "\n",
      "\n"
     ]
    },
    {
     "data": {
      "text/html": [
       "<span class=\"tex2jax_ignore\"><div class=\"entities\" style=\"line-height: 2.5; direction: ltr\">\n",
       "<mark class=\"entity\" style=\"background: #ddd; padding: 0.45em 0.6em; margin: 0 0.25em; line-height: 1; border-radius: 0.35em;\">\n",
       "    Main\n",
       "    <span style=\"font-size: 0.8em; font-weight: bold; line-height: 1; border-radius: 0.35em; vertical-align: middle; margin-left: 0.5rem\">GARMENTPART</span>\n",
       "</mark>\n",
       ": \n",
       "<mark class=\"entity\" style=\"background: #e4e7d2; padding: 0.45em 0.6em; margin: 0 0.25em; line-height: 1; border-radius: 0.35em;\">\n",
       "    47%\n",
       "    <span style=\"font-size: 0.8em; font-weight: bold; line-height: 1; border-radius: 0.35em; vertical-align: middle; margin-left: 0.5rem\">PERCENT</span>\n",
       "</mark>\n",
       " \n",
       "<mark class=\"entity\" style=\"background: #ddd; padding: 0.45em 0.6em; margin: 0 0.25em; line-height: 1; border-radius: 0.35em;\">\n",
       "    cotton\n",
       "    <span style=\"font-size: 0.8em; font-weight: bold; line-height: 1; border-radius: 0.35em; vertical-align: middle; margin-left: 0.5rem\">MATERIAL</span>\n",
       "</mark>\n",
       ", \n",
       "<mark class=\"entity\" style=\"background: #e4e7d2; padding: 0.45em 0.6em; margin: 0 0.25em; line-height: 1; border-radius: 0.35em;\">\n",
       "    53%\n",
       "    <span style=\"font-size: 0.8em; font-weight: bold; line-height: 1; border-radius: 0.35em; vertical-align: middle; margin-left: 0.5rem\">PERCENT</span>\n",
       "</mark>\n",
       " \n",
       "<mark class=\"entity\" style=\"background: #ddd; padding: 0.45em 0.6em; margin: 0 0.25em; line-height: 1; border-radius: 0.35em;\">\n",
       "    polyester\n",
       "    <span style=\"font-size: 0.8em; font-weight: bold; line-height: 1; border-radius: 0.35em; vertical-align: middle; margin-left: 0.5rem\">MATERIAL</span>\n",
       "</mark>\n",
       ", \n",
       "<mark class=\"entity\" style=\"background: #ddd; padding: 0.45em 0.6em; margin: 0 0.25em; line-height: 1; border-radius: 0.35em;\">\n",
       "    237 g/m2\n",
       "    <span style=\"font-size: 0.8em; font-weight: bold; line-height: 1; border-radius: 0.35em; vertical-align: middle; margin-left: 0.5rem\">DENSITY</span>\n",
       "</mark>\n",
       ". Contrast: 92% \n",
       "<mark class=\"entity\" style=\"background: #ddd; padding: 0.45em 0.6em; margin: 0 0.25em; line-height: 1; border-radius: 0.35em;\">\n",
       "    polyamide\n",
       "    <span style=\"font-size: 0.8em; font-weight: bold; line-height: 1; border-radius: 0.35em; vertical-align: middle; margin-left: 0.5rem\">MATERIAL</span>\n",
       "</mark>\n",
       ", \n",
       "<mark class=\"entity\" style=\"background: #e4e7d2; padding: 0.45em 0.6em; margin: 0 0.25em; line-height: 1; border-radius: 0.35em;\">\n",
       "    8%\n",
       "    <span style=\"font-size: 0.8em; font-weight: bold; line-height: 1; border-radius: 0.35em; vertical-align: middle; margin-left: 0.5rem\">PERCENT</span>\n",
       "</mark>\n",
       " \n",
       "<mark class=\"entity\" style=\"background: #ddd; padding: 0.45em 0.6em; margin: 0 0.25em; line-height: 1; border-radius: 0.35em;\">\n",
       "    elastane\n",
       "    <span style=\"font-size: 0.8em; font-weight: bold; line-height: 1; border-radius: 0.35em; vertical-align: middle; margin-left: 0.5rem\">MATERIAL</span>\n",
       "</mark>\n",
       ", \n",
       "<mark class=\"entity\" style=\"background: #ddd; padding: 0.45em 0.6em; margin: 0 0.25em; line-height: 1; border-radius: 0.35em;\">\n",
       "    250 g/m2\n",
       "    <span style=\"font-size: 0.8em; font-weight: bold; line-height: 1; border-radius: 0.35em; vertical-align: middle; margin-left: 0.5rem\">DENSITY</span>\n",
       "</mark>\n",
       ". Reinforcement: 100% \n",
       "<mark class=\"entity\" style=\"background: #ddd; padding: 0.45em 0.6em; margin: 0 0.25em; line-height: 1; border-radius: 0.35em;\">\n",
       "    polyamide\n",
       "    <span style=\"font-size: 0.8em; font-weight: bold; line-height: 1; border-radius: 0.35em; vertical-align: middle; margin-left: 0.5rem\">MATERIAL</span>\n",
       "</mark>\n",
       " CORDURA\n",
       "<mark class=\"entity\" style=\"background: #ddd; padding: 0.45em 0.6em; margin: 0 0.25em; line-height: 1; border-radius: 0.35em;\">\n",
       "    ®\n",
       "    <span style=\"font-size: 0.8em; font-weight: bold; line-height: 1; border-radius: 0.35em; vertical-align: middle; margin-left: 0.5rem\">GARMENTPART</span>\n",
       "</mark>\n",
       ", 205 g/m2.<br>\n",
       "<mark class=\"entity\" style=\"background: #ddd; padding: 0.45em 0.6em; margin: 0 0.25em; line-height: 1; border-radius: 0.35em;\">\n",
       "    Colour 0904; Main:\n",
       "    <span style=\"font-size: 0.8em; font-weight: bold; line-height: 1; border-radius: 0.35em; vertical-align: middle; margin-left: 0.5rem\">COLOR</span>\n",
       "</mark>\n",
       " \n",
       "<mark class=\"entity\" style=\"background: #e4e7d2; padding: 0.45em 0.6em; margin: 0 0.25em; line-height: 1; border-radius: 0.35em;\">\n",
       "    61%\n",
       "    <span style=\"font-size: 0.8em; font-weight: bold; line-height: 1; border-radius: 0.35em; vertical-align: middle; margin-left: 0.5rem\">PERCENT</span>\n",
       "</mark>\n",
       " \n",
       "<mark class=\"entity\" style=\"background: #ddd; padding: 0.45em 0.6em; margin: 0 0.25em; line-height: 1; border-radius: 0.35em;\">\n",
       "    polyester\n",
       "    <span style=\"font-size: 0.8em; font-weight: bold; line-height: 1; border-radius: 0.35em; vertical-align: middle; margin-left: 0.5rem\">MATERIAL</span>\n",
       "</mark>\n",
       " \n",
       "<mark class=\"entity\" style=\"background: #e4e7d2; padding: 0.45em 0.6em; margin: 0 0.25em; line-height: 1; border-radius: 0.35em;\">\n",
       "    39%\n",
       "    <span style=\"font-size: 0.8em; font-weight: bold; line-height: 1; border-radius: 0.35em; vertical-align: middle; margin-left: 0.5rem\">PERCENT</span>\n",
       "</mark>\n",
       " \n",
       "<mark class=\"entity\" style=\"background: #ddd; padding: 0.45em 0.6em; margin: 0 0.25em; line-height: 1; border-radius: 0.35em;\">\n",
       "    Sorona\n",
       "    <span style=\"font-size: 0.8em; font-weight: bold; line-height: 1; border-radius: 0.35em; vertical-align: middle; margin-left: 0.5rem\">MATERIAL</span>\n",
       "</mark>\n",
       "® \n",
       "<mark class=\"entity\" style=\"background: #ddd; padding: 0.45em 0.6em; margin: 0 0.25em; line-height: 1; border-radius: 0.35em;\">\n",
       "    polyester\n",
       "    <span style=\"font-size: 0.8em; font-weight: bold; line-height: 1; border-radius: 0.35em; vertical-align: middle; margin-left: 0.5rem\">MATERIAL</span>\n",
       "</mark>\n",
       ", \n",
       "<mark class=\"entity\" style=\"background: #ddd; padding: 0.45em 0.6em; margin: 0 0.25em; line-height: 1; border-radius: 0.35em;\">\n",
       "    252 g/m²\n",
       "    <span style=\"font-size: 0.8em; font-weight: bold; line-height: 1; border-radius: 0.35em; vertical-align: middle; margin-left: 0.5rem\">DENSITY</span>\n",
       "</mark>\n",
       ". Contrast: 91.5% \n",
       "<mark class=\"entity\" style=\"background: #ddd; padding: 0.45em 0.6em; margin: 0 0.25em; line-height: 1; border-radius: 0.35em;\">\n",
       "    polyamide\n",
       "    <span style=\"font-size: 0.8em; font-weight: bold; line-height: 1; border-radius: 0.35em; vertical-align: middle; margin-left: 0.5rem\">MATERIAL</span>\n",
       "</mark>\n",
       ", \n",
       "<mark class=\"entity\" style=\"background: #e4e7d2; padding: 0.45em 0.6em; margin: 0 0.25em; line-height: 1; border-radius: 0.35em;\">\n",
       "    8.5%\n",
       "    <span style=\"font-size: 0.8em; font-weight: bold; line-height: 1; border-radius: 0.35em; vertical-align: middle; margin-left: 0.5rem\">PERCENT</span>\n",
       "</mark>\n",
       " \n",
       "<mark class=\"entity\" style=\"background: #ddd; padding: 0.45em 0.6em; margin: 0 0.25em; line-height: 1; border-radius: 0.35em;\">\n",
       "    elastane\n",
       "    <span style=\"font-size: 0.8em; font-weight: bold; line-height: 1; border-radius: 0.35em; vertical-align: middle; margin-left: 0.5rem\">MATERIAL</span>\n",
       "</mark>\n",
       ", \n",
       "<mark class=\"entity\" style=\"background: #ddd; padding: 0.45em 0.6em; margin: 0 0.25em; line-height: 1; border-radius: 0.35em;\">\n",
       "    250 g/m²\n",
       "    <span style=\"font-size: 0.8em; font-weight: bold; line-height: 1; border-radius: 0.35em; vertical-align: middle; margin-left: 0.5rem\">DENSITY</span>\n",
       "</mark>\n",
       ". Reinforcement: 100% CORDURA®\n",
       "<mark class=\"entity\" style=\"background: #ddd; padding: 0.45em 0.6em; margin: 0 0.25em; line-height: 1; border-radius: 0.35em;\">\n",
       "    polyamide\n",
       "    <span style=\"font-size: 0.8em; font-weight: bold; line-height: 1; border-radius: 0.35em; vertical-align: middle; margin-left: 0.5rem\">MATERIAL</span>\n",
       "</mark>\n",
       ", 205 g/m²</div></span>"
      ],
      "text/plain": [
       "<IPython.core.display.HTML object>"
      ]
     },
     "metadata": {},
     "output_type": "display_data"
    },
    {
     "name": "stdout",
     "output_type": "stream",
     "text": [
      "\n",
      "\n"
     ]
    },
    {
     "data": {
      "text/html": [
       "<span class=\"tex2jax_ignore\"><div class=\"entities\" style=\"line-height: 2.5; direction: ltr\">\n",
       "<mark class=\"entity\" style=\"background: #e4e7d2; padding: 0.45em 0.6em; margin: 0 0.25em; line-height: 1; border-radius: 0.35em;\">\n",
       "    57%\n",
       "    <span style=\"font-size: 0.8em; font-weight: bold; line-height: 1; border-radius: 0.35em; vertical-align: middle; margin-left: 0.5rem\">PERCENT</span>\n",
       "</mark>\n",
       " \n",
       "<mark class=\"entity\" style=\"background: #ddd; padding: 0.45em 0.6em; margin: 0 0.25em; line-height: 1; border-radius: 0.35em;\">\n",
       "    modacrylic\n",
       "    <span style=\"font-size: 0.8em; font-weight: bold; line-height: 1; border-radius: 0.35em; vertical-align: middle; margin-left: 0.5rem\">MATERIAL</span>\n",
       "</mark>\n",
       ", \n",
       "<mark class=\"entity\" style=\"background: #e4e7d2; padding: 0.45em 0.6em; margin: 0 0.25em; line-height: 1; border-radius: 0.35em;\">\n",
       "    36%\n",
       "    <span style=\"font-size: 0.8em; font-weight: bold; line-height: 1; border-radius: 0.35em; vertical-align: middle; margin-left: 0.5rem\">PERCENT</span>\n",
       "</mark>\n",
       " \n",
       "<mark class=\"entity\" style=\"background: #ddd; padding: 0.45em 0.6em; margin: 0 0.25em; line-height: 1; border-radius: 0.35em;\">\n",
       "    cotton\n",
       "    <span style=\"font-size: 0.8em; font-weight: bold; line-height: 1; border-radius: 0.35em; vertical-align: middle; margin-left: 0.5rem\">MATERIAL</span>\n",
       "</mark>\n",
       ", \n",
       "<mark class=\"entity\" style=\"background: #e4e7d2; padding: 0.45em 0.6em; margin: 0 0.25em; line-height: 1; border-radius: 0.35em;\">\n",
       "    5%\n",
       "    <span style=\"font-size: 0.8em; font-weight: bold; line-height: 1; border-radius: 0.35em; vertical-align: middle; margin-left: 0.5rem\">PERCENT</span>\n",
       "</mark>\n",
       " \n",
       "<mark class=\"entity\" style=\"background: #ddd; padding: 0.45em 0.6em; margin: 0 0.25em; line-height: 1; border-radius: 0.35em;\">\n",
       "    elastan\n",
       "    <span style=\"font-size: 0.8em; font-weight: bold; line-height: 1; border-radius: 0.35em; vertical-align: middle; margin-left: 0.5rem\">MATERIAL</span>\n",
       "</mark>\n",
       ", \n",
       "<mark class=\"entity\" style=\"background: #e4e7d2; padding: 0.45em 0.6em; margin: 0 0.25em; line-height: 1; border-radius: 0.35em;\">\n",
       "    2%\n",
       "    <span style=\"font-size: 0.8em; font-weight: bold; line-height: 1; border-radius: 0.35em; vertical-align: middle; margin-left: 0.5rem\">PERCENT</span>\n",
       "</mark>\n",
       " Belltron\n",
       "<mark class=\"entity\" style=\"background: #ddd; padding: 0.45em 0.6em; margin: 0 0.25em; line-height: 1; border-radius: 0.35em;\">\n",
       "    ™, 210 g/m²\n",
       "    <span style=\"font-size: 0.8em; font-weight: bold; line-height: 1; border-radius: 0.35em; vertical-align: middle; margin-left: 0.5rem\">DENSITY</span>\n",
       "</mark>\n",
       ".</div></span>"
      ],
      "text/plain": [
       "<IPython.core.display.HTML object>"
      ]
     },
     "metadata": {},
     "output_type": "display_data"
    },
    {
     "name": "stdout",
     "output_type": "stream",
     "text": [
      "\n",
      "\n"
     ]
    },
    {
     "data": {
      "text/html": [
       "<span class=\"tex2jax_ignore\"><div class=\"entities\" style=\"line-height: 2.5; direction: ltr\">\n",
       "<mark class=\"entity\" style=\"background: #e4e7d2; padding: 0.45em 0.6em; margin: 0 0.25em; line-height: 1; border-radius: 0.35em;\">\n",
       "    68%\n",
       "    <span style=\"font-size: 0.8em; font-weight: bold; line-height: 1; border-radius: 0.35em; vertical-align: middle; margin-left: 0.5rem\">PERCENT</span>\n",
       "</mark>\n",
       " \n",
       "<mark class=\"entity\" style=\"background: #ddd; padding: 0.45em 0.6em; margin: 0 0.25em; line-height: 1; border-radius: 0.35em;\">\n",
       "    wool\n",
       "    <span style=\"font-size: 0.8em; font-weight: bold; line-height: 1; border-radius: 0.35em; vertical-align: middle; margin-left: 0.5rem\">MATERIAL</span>\n",
       "</mark>\n",
       ", 30% modacrylic FR, 2% Belltron\n",
       "<mark class=\"entity\" style=\"background: #ddd; padding: 0.45em 0.6em; margin: 0 0.25em; line-height: 1; border-radius: 0.35em;\">\n",
       "    ®, 450 g/m²\n",
       "    <span style=\"font-size: 0.8em; font-weight: bold; line-height: 1; border-radius: 0.35em; vertical-align: middle; margin-left: 0.5rem\">DENSITY</span>\n",
       "</mark>\n",
       ".</div></span>"
      ],
      "text/plain": [
       "<IPython.core.display.HTML object>"
      ]
     },
     "metadata": {},
     "output_type": "display_data"
    },
    {
     "name": "stdout",
     "output_type": "stream",
     "text": [
      "\n",
      "\n"
     ]
    },
    {
     "data": {
      "text/html": [
       "<span class=\"tex2jax_ignore\"><div class=\"entities\" style=\"line-height: 2.5; direction: ltr\">\n",
       "<mark class=\"entity\" style=\"background: #e4e7d2; padding: 0.45em 0.6em; margin: 0 0.25em; line-height: 1; border-radius: 0.35em;\">\n",
       "    100%\n",
       "    <span style=\"font-size: 0.8em; font-weight: bold; line-height: 1; border-radius: 0.35em; vertical-align: middle; margin-left: 0.5rem\">PERCENT</span>\n",
       "</mark>\n",
       " \n",
       "<mark class=\"entity\" style=\"background: #ddd; padding: 0.45em 0.6em; margin: 0 0.25em; line-height: 1; border-radius: 0.35em;\">\n",
       "    polyester\n",
       "    <span style=\"font-size: 0.8em; font-weight: bold; line-height: 1; border-radius: 0.35em; vertical-align: middle; margin-left: 0.5rem\">MATERIAL</span>\n",
       "</mark>\n",
       " mesh \n",
       "<mark class=\"entity\" style=\"background: #ddd; padding: 0.45em 0.6em; margin: 0 0.25em; line-height: 1; border-radius: 0.35em;\">\n",
       "    fleece\n",
       "    <span style=\"font-size: 0.8em; font-weight: bold; line-height: 1; border-radius: 0.35em; vertical-align: middle; margin-left: 0.5rem\">MATERIAL</span>\n",
       "</mark>\n",
       ", \n",
       "<mark class=\"entity\" style=\"background: #ddd; padding: 0.45em 0.6em; margin: 0 0.25em; line-height: 1; border-radius: 0.35em;\">\n",
       "    210 g/m²\n",
       "    <span style=\"font-size: 0.8em; font-weight: bold; line-height: 1; border-radius: 0.35em; vertical-align: middle; margin-left: 0.5rem\">DENSITY</span>\n",
       "</mark>\n",
       ".</div></span>"
      ],
      "text/plain": [
       "<IPython.core.display.HTML object>"
      ]
     },
     "metadata": {},
     "output_type": "display_data"
    },
    {
     "name": "stdout",
     "output_type": "stream",
     "text": [
      "\n",
      "\n"
     ]
    },
    {
     "data": {
      "text/html": [
       "<span class=\"tex2jax_ignore\"><div class=\"entities\" style=\"line-height: 2.5; direction: ltr\">\n",
       "<mark class=\"entity\" style=\"background: #ddd; padding: 0.45em 0.6em; margin: 0 0.25em; line-height: 1; border-radius: 0.35em;\">\n",
       "    Main\n",
       "    <span style=\"font-size: 0.8em; font-weight: bold; line-height: 1; border-radius: 0.35em; vertical-align: middle; margin-left: 0.5rem\">GARMENTPART</span>\n",
       "</mark>\n",
       ": \n",
       "<mark class=\"entity\" style=\"background: #e4e7d2; padding: 0.45em 0.6em; margin: 0 0.25em; line-height: 1; border-radius: 0.35em;\">\n",
       "    52%\n",
       "    <span style=\"font-size: 0.8em; font-weight: bold; line-height: 1; border-radius: 0.35em; vertical-align: middle; margin-left: 0.5rem\">PERCENT</span>\n",
       "</mark>\n",
       " \n",
       "<mark class=\"entity\" style=\"background: #ddd; padding: 0.45em 0.6em; margin: 0 0.25em; line-height: 1; border-radius: 0.35em;\">\n",
       "    cotton\n",
       "    <span style=\"font-size: 0.8em; font-weight: bold; line-height: 1; border-radius: 0.35em; vertical-align: middle; margin-left: 0.5rem\">MATERIAL</span>\n",
       "</mark>\n",
       ", \n",
       "<mark class=\"entity\" style=\"background: #e4e7d2; padding: 0.45em 0.6em; margin: 0 0.25em; line-height: 1; border-radius: 0.35em;\">\n",
       "    48%\n",
       "    <span style=\"font-size: 0.8em; font-weight: bold; line-height: 1; border-radius: 0.35em; vertical-align: middle; margin-left: 0.5rem\">PERCENT</span>\n",
       "</mark>\n",
       " \n",
       "<mark class=\"entity\" style=\"background: #ddd; padding: 0.45em 0.6em; margin: 0 0.25em; line-height: 1; border-radius: 0.35em;\">\n",
       "    polyamide\n",
       "    <span style=\"font-size: 0.8em; font-weight: bold; line-height: 1; border-radius: 0.35em; vertical-align: middle; margin-left: 0.5rem\">MATERIAL</span>\n",
       "</mark>\n",
       ", \n",
       "<mark class=\"entity\" style=\"background: #ddd; padding: 0.45em 0.6em; margin: 0 0.25em; line-height: 1; border-radius: 0.35em;\">\n",
       "    240 g/m²\n",
       "    <span style=\"font-size: 0.8em; font-weight: bold; line-height: 1; border-radius: 0.35em; vertical-align: middle; margin-left: 0.5rem\">DENSITY</span>\n",
       "</mark>\n",
       ". Reinforcement: 100% \n",
       "<mark class=\"entity\" style=\"background: #ddd; padding: 0.45em 0.6em; margin: 0 0.25em; line-height: 1; border-radius: 0.35em;\">\n",
       "    polyamide\n",
       "    <span style=\"font-size: 0.8em; font-weight: bold; line-height: 1; border-radius: 0.35em; vertical-align: middle; margin-left: 0.5rem\">MATERIAL</span>\n",
       "</mark>\n",
       " CORDURA\n",
       "<mark class=\"entity\" style=\"background: #ddd; padding: 0.45em 0.6em; margin: 0 0.25em; line-height: 1; border-radius: 0.35em;\">\n",
       "    ®\n",
       "    <span style=\"font-size: 0.8em; font-weight: bold; line-height: 1; border-radius: 0.35em; vertical-align: middle; margin-left: 0.5rem\">GARMENTPART</span>\n",
       "</mark>\n",
       ", 205 g/m².</div></span>"
      ],
      "text/plain": [
       "<IPython.core.display.HTML object>"
      ]
     },
     "metadata": {},
     "output_type": "display_data"
    },
    {
     "name": "stdout",
     "output_type": "stream",
     "text": [
      "\n",
      "\n"
     ]
    },
    {
     "data": {
      "text/html": [
       "<span class=\"tex2jax_ignore\"><div class=\"entities\" style=\"line-height: 2.5; direction: ltr\">\n",
       "<mark class=\"entity\" style=\"background: #ddd; padding: 0.45em 0.6em; margin: 0 0.25em; line-height: 1; border-radius: 0.35em;\">\n",
       "    Main\n",
       "    <span style=\"font-size: 0.8em; font-weight: bold; line-height: 1; border-radius: 0.35em; vertical-align: middle; margin-left: 0.5rem\">GARMENTPART</span>\n",
       "</mark>\n",
       ": \n",
       "<mark class=\"entity\" style=\"background: #e4e7d2; padding: 0.45em 0.6em; margin: 0 0.25em; line-height: 1; border-radius: 0.35em;\">\n",
       "    80%\n",
       "    <span style=\"font-size: 0.8em; font-weight: bold; line-height: 1; border-radius: 0.35em; vertical-align: middle; margin-left: 0.5rem\">PERCENT</span>\n",
       "</mark>\n",
       " \n",
       "<mark class=\"entity\" style=\"background: #ddd; padding: 0.45em 0.6em; margin: 0 0.25em; line-height: 1; border-radius: 0.35em;\">\n",
       "    cotton\n",
       "    <span style=\"font-size: 0.8em; font-weight: bold; line-height: 1; border-radius: 0.35em; vertical-align: middle; margin-left: 0.5rem\">MATERIAL</span>\n",
       "</mark>\n",
       ", \n",
       "<mark class=\"entity\" style=\"background: #e4e7d2; padding: 0.45em 0.6em; margin: 0 0.25em; line-height: 1; border-radius: 0.35em;\">\n",
       "    20%\n",
       "    <span style=\"font-size: 0.8em; font-weight: bold; line-height: 1; border-radius: 0.35em; vertical-align: middle; margin-left: 0.5rem\">PERCENT</span>\n",
       "</mark>\n",
       " \n",
       "<mark class=\"entity\" style=\"background: #ddd; padding: 0.45em 0.6em; margin: 0 0.25em; line-height: 1; border-radius: 0.35em;\">\n",
       "    polyester\n",
       "    <span style=\"font-size: 0.8em; font-weight: bold; line-height: 1; border-radius: 0.35em; vertical-align: middle; margin-left: 0.5rem\">MATERIAL</span>\n",
       "</mark>\n",
       ", \n",
       "<mark class=\"entity\" style=\"background: #ddd; padding: 0.45em 0.6em; margin: 0 0.25em; line-height: 1; border-radius: 0.35em;\">\n",
       "    300 g/m²\n",
       "    <span style=\"font-size: 0.8em; font-weight: bold; line-height: 1; border-radius: 0.35em; vertical-align: middle; margin-left: 0.5rem\">DENSITY</span>\n",
       "</mark>\n",
       ".</div></span>"
      ],
      "text/plain": [
       "<IPython.core.display.HTML object>"
      ]
     },
     "metadata": {},
     "output_type": "display_data"
    },
    {
     "name": "stdout",
     "output_type": "stream",
     "text": [
      "\n",
      "\n"
     ]
    }
   ],
   "source": [
    "for i in range(10):\n",
    "    seed=random.randint(0,df_cf.shape[0])\n",
    "    text=df_cf.care_label.iloc[seed]\n",
    "    doc = nlp_ner_custom(text)\n",
    "    displacy.render(doc, style=\"ent\", jupyter=True)\n",
    "    print('\\n')"
   ]
  },
  {
   "cell_type": "code",
   "execution_count": null,
   "id": "1f5dce72-9c43-4d17-bdae-631cbbe695bb",
   "metadata": {},
   "outputs": [],
   "source": []
  }
 ],
 "metadata": {
  "kernelspec": {
   "display_name": "Python 3 (ipykernel)",
   "language": "python",
   "name": "python3"
  },
  "language_info": {
   "codemirror_mode": {
    "name": "ipython",
    "version": 3
   },
   "file_extension": ".py",
   "mimetype": "text/x-python",
   "name": "python",
   "nbconvert_exporter": "python",
   "pygments_lexer": "ipython3",
   "version": "3.10.0"
  }
 },
 "nbformat": 4,
 "nbformat_minor": 5
}
